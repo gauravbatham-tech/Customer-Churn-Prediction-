{
  "cells": [
    {
      "cell_type": "markdown",
      "source": [
        "**Customer Churn Prediction Model**"
      ],
      "metadata": {
        "id": "uBz_YMp-fvHz"
      },
      "id": "uBz_YMp-fvHz"
    },
    {
      "cell_type": "markdown",
      "source": [
        "**1.** **Importing the Dependencies**"
      ],
      "metadata": {
        "id": "VTA_NX0nMNon"
      },
      "id": "VTA_NX0nMNon"
    },
    {
      "cell_type": "code",
      "source": [
        "import numpy as np\n",
        "import pandas as pd\n",
        "import matplotlib.pyplot as plt\n",
        "import seaborn as sns\n",
        "from sklearn.preprocessing import LabelEncoder\n",
        "from imblearn.over_sampling import SMOTE\n",
        "from sklearn.model_selection import train_test_split, cross_val_score, GridSearchCV, StratifiedKFold, cross_validate\n",
        "from sklearn.tree import DecisionTreeClassifier\n",
        "from sklearn.ensemble import RandomForestClassifier\n",
        "from xgboost import XGBClassifier\n",
        "from sklearn.metrics import accuracy_score, confusion_matrix, classification_report, f1_score, roc_auc_score, roc_curve\n",
        "from imblearn.under_sampling import RandomUnderSampler\n",
        "import pickle\n",
        "import plotly.express as px\n",
        "import plotly.graph_objects as go\n",
        "%matplotlib inline"
      ],
      "metadata": {
        "id": "yaOrduyrMTIa"
      },
      "id": "yaOrduyrMTIa",
      "execution_count": null,
      "outputs": []
    },
    {
      "cell_type": "code",
      "source": [
        "from google.colab import files\n",
        "uploaded = files.upload()"
      ],
      "metadata": {
        "id": "ya2NKO7z-ehH"
      },
      "id": "ya2NKO7z-ehH",
      "execution_count": null,
      "outputs": []
    },
    {
      "cell_type": "markdown",
      "source": [
        "**2.** **Data Loading and Understanding**"
      ],
      "metadata": {
        "id": "1D2IgTu_Qzf3"
      },
      "id": "1D2IgTu_Qzf3"
    },
    {
      "cell_type": "code",
      "source": [
        "# Load the csv data to pandas dataframe\n",
        "df = pd.read_csv(\"/content/Telco-Customer-Churn.csv\")\n",
        "df.shape\n",
        "df.head()"
      ],
      "metadata": {
        "id": "huv6PnTyejxz"
      },
      "id": "huv6PnTyejxz",
      "execution_count": null,
      "outputs": []
    },
    {
      "cell_type": "code",
      "source": [
        "pd.set_option('display.max_columns', None)\n",
        "df.info()"
      ],
      "metadata": {
        "id": "uB-bA_logBOb"
      },
      "id": "uB-bA_logBOb",
      "execution_count": null,
      "outputs": []
    },
    {
      "cell_type": "code",
      "source": [
        "# dropping customer_ID columnas this is not required for modelling\n",
        "df = df.drop(columns = [\"customerID\"])\n",
        "df.head(2)"
      ],
      "metadata": {
        "id": "Vg63C1Mqg3_l"
      },
      "id": "Vg63C1Mqg3_l",
      "execution_count": null,
      "outputs": []
    },
    {
      "cell_type": "code",
      "source": [
        "#printing the unique values in all the columns\n",
        "\n",
        "numerical_features_list = [\"tenure\", \"MonthlyCharges\", \"TotalCharges\"]\n",
        "\n",
        "for col in df.columns:\n",
        "  if col not in numerical_features_list:\n",
        "    print(col, df[col].unique())\n",
        "    print(\"-\" * 50)\n",
        "\n",
        "print(df.isnull().sum())"
      ],
      "metadata": {
        "id": "u_hxPLVZhymu"
      },
      "id": "u_hxPLVZhymu",
      "execution_count": null,
      "outputs": []
    },
    {
      "cell_type": "code",
      "source": [
        "# Handle missing values in TotalCharges\n",
        "df[\"TotalCharges\"] = df[\"TotalCharges\"].replace(\" \", \"0.0\")\n",
        "df[\"TotalCharges\"] = df[\"TotalCharges\"].astype(float)\n",
        "df.info()"
      ],
      "metadata": {
        "id": "y99d7dcInU_d"
      },
      "id": "y99d7dcInU_d",
      "execution_count": null,
      "outputs": []
    },
    {
      "cell_type": "code",
      "source": [
        "#checking the class distribution of target column\n",
        "print(df[\"Churn\"].value_counts())"
      ],
      "metadata": {
        "id": "sbymMQxqa3X_"
      },
      "id": "sbymMQxqa3X_",
      "execution_count": null,
      "outputs": []
    },
    {
      "cell_type": "markdown",
      "source": [
        "**Insights:**\n",
        "1. Customer ID removed as it is not required for modelling.\n",
        "2. No missing values in the dataset.\n",
        "3. Missing values in the TotalCharges cloumn were replaced with 0.\n",
        "4. Class imbalance identified in the target."
      ],
      "metadata": {
        "id": "hcDhdmRpbW54"
      },
      "id": "hcDhdmRpbW54"
    },
    {
      "cell_type": "markdown",
      "source": [
        "**3. Exploratory Data Analysis (EDA)**"
      ],
      "metadata": {
        "id": "VWY-51LlcI5R"
      },
      "id": "VWY-51LlcI5R"
    },
    {
      "cell_type": "markdown",
      "source": [
        "**Numerical Features - Analysis**"
      ],
      "metadata": {
        "id": "j8OIaYWdc10X"
      },
      "id": "j8OIaYWdc10X"
    },
    {
      "cell_type": "markdown",
      "source": [
        "Understanding the distribution of the numerical features"
      ],
      "metadata": {
        "id": "kSqvS1y1c_rh"
      },
      "id": "kSqvS1y1c_rh"
    },
    {
      "cell_type": "code",
      "source": [
        "def plot_histogram(df, column_name):\n",
        "  plt.figure(figsize=(5, 3))\n",
        "  sns.histplot(df[column_name], kde = True)\n",
        "  plt.title(f\"Distribution of {column_name}\")\n",
        "\n",
        "  # calculate the mean and median values for the columns\n",
        "  col_mean = df[column_name].mean()\n",
        "  col_median = df[column_name].median()\n",
        "\n",
        "  # add vertical lines for mean and median\n",
        "  plt.axvline(col_mean, color = \"red\", linestyle = \"--\", label = \"Mean\")\n",
        "  plt.axvline(col_median, color = \"green\", linestyle = \"-\", label = \"Median\")\n",
        "\n",
        "  plt.legend()\n",
        "\n",
        "  plt.show()"
      ],
      "metadata": {
        "id": "wEXHkGMfcdHy"
      },
      "id": "wEXHkGMfcdHy",
      "execution_count": null,
      "outputs": []
    },
    {
      "cell_type": "code",
      "source": [
        "plot_histogram(df, \"tenure\")"
      ],
      "metadata": {
        "id": "0vmvglS2efsI"
      },
      "id": "0vmvglS2efsI",
      "execution_count": null,
      "outputs": []
    },
    {
      "cell_type": "code",
      "source": [
        "plot_histogram(df, \"MonthlyCharges\")"
      ],
      "metadata": {
        "id": "snceLjC9elaU"
      },
      "id": "snceLjC9elaU",
      "execution_count": null,
      "outputs": []
    },
    {
      "cell_type": "code",
      "source": [
        "plot_histogram(df, \"TotalCharges\")"
      ],
      "metadata": {
        "id": "fZVOUan4fOfQ"
      },
      "id": "fZVOUan4fOfQ",
      "execution_count": null,
      "outputs": []
    },
    {
      "cell_type": "markdown",
      "source": [
        "***Box plot for numerical features***"
      ],
      "metadata": {
        "id": "VU_Bqg-clVGu"
      },
      "id": "VU_Bqg-clVGu"
    },
    {
      "cell_type": "code",
      "source": [
        "def plot_boxplot(df, column_name):\n",
        "  plt.figure(figsize=(5, 3))\n",
        "  sns.boxplot(df[column_name])\n",
        "  plt.title(f\"Box plot of { column_name }\")\n",
        "  plt.ylabel(column_name)\n",
        "  plt.show"
      ],
      "metadata": {
        "id": "oJEJH7J2fUra"
      },
      "id": "oJEJH7J2fUra",
      "execution_count": null,
      "outputs": []
    },
    {
      "cell_type": "code",
      "source": [
        "plot_boxplot(df, \"tenure\")"
      ],
      "metadata": {
        "id": "uZtn6ArBly2U"
      },
      "id": "uZtn6ArBly2U",
      "execution_count": null,
      "outputs": []
    },
    {
      "cell_type": "code",
      "source": [
        "plot_boxplot(df, \"MonthlyCharges\")"
      ],
      "metadata": {
        "id": "dc2PM_nil1xy"
      },
      "id": "dc2PM_nil1xy",
      "execution_count": null,
      "outputs": []
    },
    {
      "cell_type": "code",
      "source": [
        "plot_boxplot(df, \"TotalCharges\")"
      ],
      "metadata": {
        "id": "4V3kcb_Ol4Q-"
      },
      "id": "4V3kcb_Ol4Q-",
      "execution_count": null,
      "outputs": []
    },
    {
      "cell_type": "markdown",
      "source": [
        "**Correlation HeatMap for numerical columns**"
      ],
      "metadata": {
        "id": "DFa1PML5mjwa"
      },
      "id": "DFa1PML5mjwa"
    },
    {
      "cell_type": "code",
      "source": [
        "# correlation matrix - heatmap\n",
        "plt.figure(figsize=(8, 4))\n",
        "sns.heatmap(df[[\"tenure\", \"MonthlyCharges\", \"TotalCharges\"]].corr(), annot = True, cmap = \"coolwarm\", fmt = \".2f\")\n",
        "plt.title(\"Correlation Heatmap\")\n",
        "plt.show()"
      ],
      "metadata": {
        "id": "ffuaEye_mRuY"
      },
      "id": "ffuaEye_mRuY",
      "execution_count": null,
      "outputs": []
    },
    {
      "cell_type": "markdown",
      "source": [
        "Categorical features - Analysis"
      ],
      "metadata": {
        "id": "IpgOzmz8n-lg"
      },
      "id": "IpgOzmz8n-lg"
    },
    {
      "cell_type": "markdown",
      "source": [
        "CountPlot for categorical columns"
      ],
      "metadata": {
        "id": "cCEpPHn6ouKj"
      },
      "id": "cCEpPHn6ouKj"
    },
    {
      "cell_type": "code",
      "source": [
        "object_cols = df.select_dtypes(include = \"object\").columns.to_list()\n",
        "\n",
        "object_cols = [\"SeniorCitizen\"] + object_cols\n",
        "\n",
        "for col in object_cols:\n",
        "  plt.figure(figsize=(5, 3))\n",
        "  sns.countplot(x = df[col])\n",
        "  plt.title(f\"Count Plot of {col}\")\n",
        "  plt.show()\n"
      ],
      "metadata": {
        "id": "_69QdA1qoJIK"
      },
      "id": "_69QdA1qoJIK",
      "execution_count": null,
      "outputs": []
    },
    {
      "cell_type": "markdown",
      "source": [
        "**4. Data Prepocessing**"
      ],
      "metadata": {
        "id": "_bpVn5vAtuCE"
      },
      "id": "_bpVn5vAtuCE"
    },
    {
      "cell_type": "markdown",
      "source": [
        "Label encoding of target column"
      ],
      "metadata": {
        "id": "T8xnRpbAt4pF"
      },
      "id": "T8xnRpbAt4pF"
    },
    {
      "cell_type": "code",
      "source": [
        "df[\"Churn\"] = df[\"Churn\"].replace({\"Yes\": 1, \"No\": 0})"
      ],
      "metadata": {
        "id": "j_SiQRyst1It"
      },
      "id": "j_SiQRyst1It",
      "execution_count": null,
      "outputs": []
    },
    {
      "cell_type": "markdown",
      "source": [
        "Label encoding of categorical features"
      ],
      "metadata": {
        "id": "uMTjBZWXuUUb"
      },
      "id": "uMTjBZWXuUUb"
    },
    {
      "cell_type": "code",
      "source": [
        "# identify columns with object data type\n",
        "object_columns = df.select_dtypes(include = \"object\").columns"
      ],
      "metadata": {
        "id": "VpXs-agOuS8j"
      },
      "id": "VpXs-agOuS8j",
      "execution_count": null,
      "outputs": []
    },
    {
      "cell_type": "code",
      "source": [
        "print(object_columns)"
      ],
      "metadata": {
        "id": "ePKs1knmummE"
      },
      "id": "ePKs1knmummE",
      "execution_count": null,
      "outputs": []
    },
    {
      "cell_type": "code",
      "source": [
        "# initialise a dictionary to save the encoders\n",
        "encoders = {}\n",
        "\n",
        "# apply label encodeing and store the encoders\n",
        "for column in object_columns:\n",
        "  label_encoder = LabelEncoder()\n",
        "  df[column] = label_encoder.fit_transform(df[column])\n",
        "  encoders[column]  = label_encoder\n",
        "\n",
        "# save the encoders to a pickle file\n",
        "with open(\"encoders.pkl\", \"wb\") as f:\n",
        "  pickle.dump(encoders, f)"
      ],
      "metadata": {
        "id": "TFA_59ejuog4"
      },
      "id": "TFA_59ejuog4",
      "execution_count": null,
      "outputs": []
    },
    {
      "cell_type": "code",
      "source": [
        "encoders"
      ],
      "metadata": {
        "id": "IduXwjRWwIgb"
      },
      "id": "IduXwjRWwIgb",
      "execution_count": null,
      "outputs": []
    },
    {
      "cell_type": "markdown",
      "source": [
        "**Training and test data split**"
      ],
      "metadata": {
        "id": "QXCHqtUowbqa"
      },
      "id": "QXCHqtUowbqa"
    },
    {
      "cell_type": "code",
      "source": [
        "# splitting the features and target\n",
        "x = df.drop(columns = [\"Churn\"])\n",
        "y = df[\"Churn\"]"
      ],
      "metadata": {
        "id": "uF_2_L7UwMXD"
      },
      "id": "uF_2_L7UwMXD",
      "execution_count": null,
      "outputs": []
    },
    {
      "cell_type": "code",
      "source": [
        "# split training and test data\n",
        "x_train, x_test, y_train, y_test = train_test_split(x, y, test_size = 0.2, random_state = 42)"
      ],
      "metadata": {
        "id": "3X2JZulHwnWf"
      },
      "id": "3X2JZulHwnWf",
      "execution_count": null,
      "outputs": []
    },
    {
      "cell_type": "code",
      "source": [
        "print(y_train.shape)"
      ],
      "metadata": {
        "id": "nBsuWlYNwq4E"
      },
      "id": "nBsuWlYNwq4E",
      "execution_count": null,
      "outputs": []
    },
    {
      "cell_type": "code",
      "source": [
        "print(y_train.value_counts())"
      ],
      "metadata": {
        "id": "oOEuUFcWxUqV"
      },
      "id": "oOEuUFcWxUqV",
      "execution_count": null,
      "outputs": []
    },
    {
      "cell_type": "markdown",
      "source": [
        "**Synthetic Minority Oversampling Technique  (SMOT)**"
      ],
      "metadata": {
        "id": "M191748KxbXX"
      },
      "id": "M191748KxbXX"
    },
    {
      "cell_type": "code",
      "source": [
        "# Handle imbalance using SMOTE\n",
        "smote = SMOTE(random_state = 42)\n",
        "x_train_smote, y_train_smote = smote.fit_resample(x_train, y_train)"
      ],
      "metadata": {
        "id": "x7RJbDpjxaQB"
      },
      "id": "x7RJbDpjxaQB",
      "execution_count": null,
      "outputs": []
    },
    {
      "cell_type": "code",
      "source": [
        "print(y_train_smote.shape)"
      ],
      "metadata": {
        "id": "uypXaPOHx6ny"
      },
      "id": "uypXaPOHx6ny",
      "execution_count": null,
      "outputs": []
    },
    {
      "cell_type": "code",
      "source": [
        "print(y_train_smote.value_counts())"
      ],
      "metadata": {
        "id": "SNNd2Xdtx_sz"
      },
      "id": "SNNd2Xdtx_sz",
      "execution_count": null,
      "outputs": []
    },
    {
      "cell_type": "markdown",
      "source": [
        "**5. Model Training**"
      ],
      "metadata": {
        "id": "A1js08MZ5ict"
      },
      "id": "A1js08MZ5ict"
    },
    {
      "cell_type": "markdown",
      "source": [
        "Training with default hyper parameters"
      ],
      "metadata": {
        "id": "_yrpjYR15tyy"
      },
      "id": "_yrpjYR15tyy"
    },
    {
      "cell_type": "code",
      "source": [
        "# dictionary of models\n",
        "models = {\n",
        "    \"Decision Tree\": DecisionTreeClassifier(random_state = 42),\n",
        "    \"Random Forest\": RandomForestClassifier(random_state = 42),\n",
        "    \"XGBoost\": XGBClassifier(random_state = 42)\n",
        "}"
      ],
      "metadata": {
        "id": "rxtXAFXJyE8T"
      },
      "id": "rxtXAFXJyE8T",
      "execution_count": null,
      "outputs": []
    },
    {
      "cell_type": "code",
      "source": [
        "# Dictionary to store cross validation results\n",
        "cv_scores = {}\n",
        "\n",
        "#perform S-fold cross validation for each model\n",
        "for model_name, model in models.items():\n",
        "  print(f\"Training {model_name} with default parameters\")\n",
        "  scores = cross_val_score(model, x_train_smote, y_train_smote, cv = 5, scoring = \"accuracy\")\n",
        "  cv_scores[model_name] = scores\n",
        "  print(f\"{model_name} cross validation accuracy: {np.mean(scores):.2f}\")\n",
        "  print(\"-\" * 70)"
      ],
      "metadata": {
        "id": "lIRTb3La6BBM"
      },
      "id": "lIRTb3La6BBM",
      "execution_count": null,
      "outputs": []
    },
    {
      "cell_type": "code",
      "source": [
        "cv_scores"
      ],
      "metadata": {
        "id": "JlcY5y6i8WFh"
      },
      "id": "JlcY5y6i8WFh",
      "execution_count": null,
      "outputs": []
    },
    {
      "cell_type": "markdown",
      "source": [
        "**Random Forest gives the highest accuracy compred to other models with default parameters**"
      ],
      "metadata": {
        "id": "VAOoPSZH83DK"
      },
      "id": "VAOoPSZH83DK"
    },
    {
      "cell_type": "code",
      "source": [
        "rfc = RandomForestClassifier(random_state = 42)"
      ],
      "metadata": {
        "id": "0qKu5xpK7KPr"
      },
      "id": "0qKu5xpK7KPr",
      "execution_count": null,
      "outputs": []
    },
    {
      "cell_type": "code",
      "source": [
        "rfc.fit(x_train_smote, y_train_smote)"
      ],
      "metadata": {
        "id": "Te1WKET89DoX"
      },
      "id": "Te1WKET89DoX",
      "execution_count": null,
      "outputs": []
    },
    {
      "cell_type": "markdown",
      "source": [
        "**6. Model Evaluation**"
      ],
      "metadata": {
        "id": "SP-iBihy9Jz3"
      },
      "id": "SP-iBihy9Jz3"
    },
    {
      "cell_type": "code",
      "source": [
        "#evaluate on test data\n",
        "y_test_pred = rfc.predict(x_test)\n",
        "\n",
        "print(\"Accuracy Score:\\n\", accuracy_score(y_test, y_test_pred))\n",
        "print(\"Confusion Matrix:\\n\", confusion_matrix(y_test, y_test_pred))\n",
        "print(\"Classification Report:\\n\", classification_report(y_test, y_test_pred))"
      ],
      "metadata": {
        "id": "i8Kp8Gyn9Ngs"
      },
      "id": "i8Kp8Gyn9Ngs",
      "execution_count": null,
      "outputs": []
    },
    {
      "cell_type": "code",
      "source": [
        "# save the trained model as a pickle file\n",
        "model_data = {\n",
        "    \"model\": rfc,\n",
        "    \"features_names\" : x.columns.tolist()\n",
        "}\n",
        "\n",
        "with open(\"customer_churn_model.pkl\", \"wb\") as f:\n",
        "  pickle.dump(model_data, f)"
      ],
      "metadata": {
        "id": "Uf39o8ta-ERE"
      },
      "id": "Uf39o8ta-ERE",
      "execution_count": null,
      "outputs": []
    },
    {
      "cell_type": "markdown",
      "source": [
        "**7. Load the saved model and build a predictive system**"
      ],
      "metadata": {
        "id": "rbTzIQtTHMmR"
      },
      "id": "rbTzIQtTHMmR"
    },
    {
      "cell_type": "code",
      "source": [
        "# load the saved model and the feature names\n",
        "\n",
        "with open(\"customer_churn_model.pkl\", \"rb\") as f:\n",
        "  model_data = pickle.load(f)\n",
        "\n",
        "  loaded_model = model_data[\"model\"]\n",
        "  feature_names = model_data[\"features_names\"]"
      ],
      "metadata": {
        "id": "hYBf5OD-HLz2"
      },
      "id": "hYBf5OD-HLz2",
      "execution_count": null,
      "outputs": []
    },
    {
      "cell_type": "code",
      "source": [
        "print(loaded_model)"
      ],
      "metadata": {
        "id": "XEbhKEGcIrFA"
      },
      "id": "XEbhKEGcIrFA",
      "execution_count": null,
      "outputs": []
    },
    {
      "cell_type": "code",
      "source": [
        "print(feature_names)"
      ],
      "metadata": {
        "id": "GZ-5cymoIxuZ"
      },
      "id": "GZ-5cymoIxuZ",
      "execution_count": null,
      "outputs": []
    },
    {
      "cell_type": "code",
      "source": [
        "sample_input = {\n",
        "    'gender': 'Female',\n",
        "    'SeniorCitizen': 0,\n",
        "    'Partner': 'Yes',\n",
        "    'Dependents': 'No',\n",
        "    'tenure': 1,\n",
        "    'PhoneService': 'No',\n",
        "    'MultipleLines': 'No phone service',\n",
        "    'InternetService': 'DSL',\n",
        "    'OnlineSecurity': 'No',\n",
        "    'OnlineBackup': 'Yes',\n",
        "    'DeviceProtection': 'No',\n",
        "    'TechSupport': 'No',\n",
        "    'StreamingTV': 'No',\n",
        "    'StreamingMovies': 'No',\n",
        "    'Contract': 'Month-to-month',\n",
        "    'PaperlessBilling': 'Yes',\n",
        "    'PaymentMethod': 'Electronic check',\n",
        "    'MonthlyCharges': 29.85,\n",
        "    'TotalCharges': 29.85\n",
        "}\n",
        "\n",
        "input_data_df = pd.DataFrame([sample_input])\n",
        "\n",
        "with open(\"encoders.pkl\", \"rb\") as f:\n",
        "  encoders = pickle.load(f)\n",
        "\n",
        "\n",
        "# encode categorical features using the saved encoders\n",
        "for column, encoder in encoders.items():\n",
        "  input_data_df[column] = encoder.transform(input_data_df[column])\n",
        "\n",
        "# make a prediction\n",
        "prediction = loaded_model.predict(input_data_df)\n",
        "pred_prob = loaded_model.predict_proba(input_data_df)\n",
        "\n",
        "# print the prediction\n",
        "print(prediction)\n",
        "\n",
        "# results\n",
        "print(f\"Prediction: {'Churn' if prediction[0] == 1 else 'No Churn'}\")\n",
        "print(f\"Probability Probability: { pred_prob }\")"
      ],
      "metadata": {
        "id": "UM8GtJRNI7DO"
      },
      "id": "UM8GtJRNI7DO",
      "execution_count": null,
      "outputs": []
    },
    {
      "cell_type": "code",
      "source": [
        "encoders"
      ],
      "metadata": {
        "id": "yGrx4nuvP3v6"
      },
      "id": "yGrx4nuvP3v6",
      "execution_count": null,
      "outputs": []
    },
    {
      "cell_type": "markdown",
      "source": [
        "**8. Model Improvements and Advanced Evaluation**"
      ],
      "metadata": {
        "id": "UXazVHbw4t2v"
      },
      "id": "UXazVHbw4t2v"
    },
    {
      "cell_type": "code",
      "source": [
        "from imblearn.under_sampling import RandomUnderSampler\n",
        "rus = RandomUnderSampler(random_state=42)\n",
        "\n",
        "x_train_rus, y_train_rus = rus.fit_resample(x_train, y_train)\n",
        "print(\"After downsampling class distribution:\", y_train_rus.value_counts())\n"
      ],
      "metadata": {
        "id": "K58AmuSuZq-2"
      },
      "id": "K58AmuSuZq-2",
      "execution_count": null,
      "outputs": []
    },
    {
      "cell_type": "code",
      "source": [
        "# Train Random Forest on downsampled data\n",
        "rfc_rus = RandomForestClassifier(random_state=42)\n",
        "rfc_rus.fit(x_train_rus, y_train_rus)\n",
        "\n",
        "# Evaluate on test set\n",
        "y_test_pred_rus = rfc_rus.predict(x_test)\n",
        "print(\"Downsampled RF Accuracy:\", accuracy_score(y_test, y_test_pred_rus))\n",
        "\n",
        "# Compare with SMOTE-trained model (rfc from above)\n",
        "print(\"SMOTE RF Accuracy:\", accuracy_score(y_test, y_test_pred))"
      ],
      "metadata": {
        "id": "hSbm4rBE49lU"
      },
      "id": "hSbm4rBE49lU",
      "execution_count": null,
      "outputs": []
    },
    {
      "cell_type": "code",
      "source": [
        "# Stratified K-Fold Cross Validation\n",
        "from sklearn.model_selection import StratifiedKFold, cross_validate\n",
        "skf = StratifiedKFold(n_splits=5, shuffle=True, random_state=42)\n",
        "\n",
        "models_for_cv = {\n",
        "    \"Random Forest\": RandomForestClassifier(random_state=42),\n",
        "    \"XGBoost\": XGBClassifier(use_label_encoder=False, eval_metric='logloss', random_state=42),\n",
        "}\n",
        "cv_results = {}\n",
        "\n",
        "for name, model in models_for_cv.items():\n",
        "    results = cross_validate(model, x_train_smote, y_train_smote, cv=skf,\n",
        "                             scoring=['accuracy','precision','recall','f1'], return_train_score=True, n_jobs=-1)\n",
        "    cv_results[name] = results\n",
        "    print(f\"{name} - Mean Train Acc: {results['train_accuracy'].mean():.3f}, Mean Test Acc: {results['test_accuracy'].mean():.3f}\")\n",
        "    print(f\"{name} - Mean Train F1: {results['train_f1'].mean():.3f}, Mean Test F1: {results['test_f1'].mean():.3f}\")"
      ],
      "metadata": {
        "id": "AHEK58KE5CaN"
      },
      "id": "AHEK58KE5CaN",
      "execution_count": null,
      "outputs": []
    },
    {
      "cell_type": "code",
      "source": [
        "# Hyperparameter Tuning (GridSearchCV) for Random Forest and XGBoost\n",
        "from sklearn.model_selection import GridSearchCV\n",
        "\n",
        "rfc_param_grid = {\n",
        "    'n_estimators': [100, 200],\n",
        "    'max_depth': [None, 10, 20],\n",
        "    'min_samples_split': [2, 5]\n",
        "}\n",
        "rfc_grid = GridSearchCV(RandomForestClassifier(random_state=42), rfc_param_grid,\n",
        "                        cv=skf, scoring='f1', n_jobs=-1, verbose=1)\n",
        "rfc_grid.fit(x_train_smote, y_train_smote)\n",
        "print(\"Best RFC params:\", rfc_grid.best_params_)\n",
        "best_rfc = rfc_grid.best_estimator_\n",
        "\n",
        "xgb_param_grid = {\n",
        "    'n_estimators': [100, 200],\n",
        "    'max_depth': [3, 6],\n",
        "    'learning_rate': [0.1, 0.01]\n",
        "}\n",
        "xgb_grid = GridSearchCV(XGBClassifier(use_label_encoder=False, eval_metric='logloss', random_state=42),\n",
        "                        xgb_param_grid, cv=skf, scoring='f1', n_jobs=-1, verbose=1)\n",
        "xgb_grid.fit(x_train_smote, y_train_smote)\n",
        "print(\"Best XGB params:\", xgb_grid.best_params_)\n",
        "best_xgb = xgb_grid.best_estimator_"
      ],
      "metadata": {
        "id": "gC8PiaKE5Kcd"
      },
      "id": "gC8PiaKE5Kcd",
      "execution_count": null,
      "outputs": []
    },
    {
      "cell_type": "code",
      "source": [
        "# Check Overfitting: compare train vs test performance for tuned models\n",
        "from sklearn.metrics import classification_report, roc_auc_score, roc_curve\n",
        "\n",
        "def evaluate_and_plot(model, X_train, y_train, X_test, y_test, name=\"Model\"):\n",
        "    y_train_pred = model.predict(X_train)\n",
        "    y_test_pred = model.predict(X_test)\n",
        "    print(f\"--- {name} ---\")\n",
        "    print(\"Train Classification Report:\")\n",
        "    print(classification_report(y_train, y_train_pred))\n",
        "    print(\"Test Classification Report:\")\n",
        "    print(classification_report(y_test, y_test_pred))\n",
        "    # ROC AUC\n",
        "    if hasattr(model, \"predict_proba\"):\n",
        "        y_test_proba = model.predict_proba(X_test)[:,1]\n",
        "        auc = roc_auc_score(y_test, y_test_proba)\n",
        "        print(f\"Test ROC AUC: {auc:.3f}\")\n",
        "        fpr, tpr, _ = roc_curve(y_test, y_test_proba)\n",
        "        plt.figure(figsize=(6,4))\n",
        "        plt.plot(fpr, tpr, label=f'{name} (AUC = {auc:.3f})')\n",
        "        plt.plot([0,1],[0,1],'--')\n",
        "        plt.xlabel('FPR')\n",
        "        plt.ylabel('TPR')\n",
        "        plt.title(f'ROC Curve - {name}')\n",
        "        plt.legend()\n",
        "        plt.show()\n"
      ],
      "metadata": {
        "id": "nhxr7K2V5N7-"
      },
      "id": "nhxr7K2V5N7-",
      "execution_count": null,
      "outputs": []
    },
    {
      "cell_type": "code",
      "source": [
        "# Evaluate tuned models\n",
        "evaluate_and_plot(best_rfc, x_train_smote, y_train_smote, x_test, y_test, name=\"Tuned Random Forest\")\n",
        "evaluate_and_plot(best_xgb, x_train_smote, y_train_smote, x_test, y_test, name=\"Tuned XGBoost\")\n",
        "\n",
        "# Visual comparisons: accuracy and f1 for models\n",
        "model_scores = []\n",
        "# SMOTE RFC\n",
        "model_scores.append((\"SMOTE_RF\", accuracy_score(y_test, y_test_pred)))\n",
        "# Downsample RF\n",
        "model_scores.append((\"Downsample_RF\", accuracy_score(y_test, y_test_pred_rus)))\n",
        "# Tuned RFC\n",
        "y_test_pred_best_rfc = best_rfc.predict(x_test)\n",
        "model_scores.append((\"Tuned_RF\", accuracy_score(y_test, y_test_pred_best_rfc)))\n",
        "# Tuned XGB\n",
        "y_test_pred_best_xgb = best_xgb.predict(x_test)\n",
        "model_scores.append((\"Tuned_XGB\", accuracy_score(y_test, y_test_pred_best_xgb)))\n",
        "\n",
        "scores_df = pd.DataFrame(model_scores, columns=[\"Model\",\"Accuracy\"])\n",
        "plt.figure(figsize=(8,4))\n",
        "sns.barplot(x=\"Model\", y=\"Accuracy\", data=scores_df)\n",
        "plt.title(\"Model Accuracy Comparison\")\n",
        "plt.show()"
      ],
      "metadata": {
        "id": "EDgo_L8e5Q4S"
      },
      "id": "EDgo_L8e5Q4S",
      "execution_count": null,
      "outputs": []
    },
    {
      "cell_type": "code",
      "source": [
        "from sklearn.metrics import f1_score\n",
        "f1_list = [\n",
        "    (\"SMOTE_RF\", f1_score(y_test, y_test_pred)),\n",
        "    (\"Downsample_RF\", f1_score(y_test, y_test_pred_rus)),\n",
        "    (\"Tuned_RF\", f1_score(y_test, y_test_pred_best_rfc)),\n",
        "    (\"Tuned_XGB\", f1_score(y_test, y_test_pred_best_xgb))\n",
        "]\n",
        "f1_df = pd.DataFrame(f1_list, columns=[\"Model\",\"F1\"])\n",
        "plt.figure(figsize=(8,4))\n",
        "sns.barplot(x=\"Model\", y=\"F1\", data=f1_df)\n",
        "plt.title(\"Model F1 Score Comparison\")\n",
        "plt.show()\n"
      ],
      "metadata": {
        "id": "AlwUKh385VhI"
      },
      "id": "AlwUKh385VhI",
      "execution_count": null,
      "outputs": []
    },
    {
      "cell_type": "code",
      "source": [
        "# Save tuned model (best_rfc) as final model\n",
        "model_data_tuned = {\"model\": best_rfc, \"features_names\": x.columns.tolist()}\n",
        "with open(\"customer_churn_model_tuned.pkl\", \"wb\") as f:\n",
        "    pickle.dump(model_data_tuned, f)\n",
        "print(\"Tuned model saved to customer_churn_model_tuned.pkl\")"
      ],
      "metadata": {
        "id": "p9sEensW5ZTO"
      },
      "id": "p9sEensW5ZTO",
      "execution_count": null,
      "outputs": []
    },
    {
      "cell_type": "markdown",
      "source": [
        "**9 — Final Feature Importance & Insights**"
      ],
      "metadata": {
        "id": "0dscvtXk5bGI"
      },
      "id": "0dscvtXk5bGI"
    },
    {
      "cell_type": "code",
      "source": [
        "# Feature importance (from tuned Random Forest)\n",
        "importances = best_rfc.feature_importances_\n",
        "feat_imp = pd.Series(importances, index=x.columns).sort_values(ascending=False)\n",
        "plt.figure(figsize=(8,6))\n",
        "sns.barplot(x=feat_imp.values, y=feat_imp.index)\n",
        "plt.title(\"Feature Importance (Tuned Random Forest)\")\n",
        "plt.show()\n",
        "\n",
        "# Business insights (brief)\n",
        "print(\"Top features influencing churn:\", feat_imp.index[:5].tolist())"
      ],
      "metadata": {
        "id": "uQCpd67Y5fOc"
      },
      "id": "uQCpd67Y5fOc",
      "execution_count": null,
      "outputs": []
    },
    {
      "cell_type": "markdown",
      "source": [
        "**10. DashBoard**"
      ],
      "metadata": {
        "id": "2aPRKQQjs5RF"
      },
      "id": "2aPRKQQjs5RF"
    },
    {
      "cell_type": "code",
      "source": [
        "# Interactive summary visuals\n",
        "\n",
        "# Model accuracy comparison\n",
        "fig_acc = px.bar(scores_df, x=\"Model\", y=\"Accuracy\", color=\"Model\", title=\"Model Accuracy Comparison\", text=\"Accuracy\")\n",
        "fig_acc.update_traces(texttemplate='%{text:.3f}', textposition='outside')\n",
        "fig_acc.show()\n",
        "\n",
        "# F1 comparison\n",
        "fig_f1 = px.bar(f1_df, x=\"Model\", y=\"F1\", color=\"Model\", title=\"Model F1 Score Comparison\", text=\"F1\")\n",
        "fig_f1.update_traces(texttemplate='%{text:.3f}', textposition='outside')\n",
        "fig_f1.show()"
      ],
      "metadata": {
        "id": "s90ETpJitDEN"
      },
      "id": "s90ETpJitDEN",
      "execution_count": null,
      "outputs": []
    },
    {
      "cell_type": "code",
      "source": [
        "# Feature importance\n",
        "feat_imp_df = pd.DataFrame({\"Feature\": feat_imp.index, \"Importance\": feat_imp.values})\n",
        "fig_feat = px.bar(feat_imp_df.head(10), x=\"Importance\", y=\"Feature\", orientation=\"h\", title=\"Top 10 Features Influencing Churn\", color=\"Importance\", color_continuous_scale=\"Blues\")\n",
        "fig_feat.update_layout(yaxis={'categoryorder':'total ascending'})\n",
        "fig_feat.show()\n",
        "\n",
        "# Churn distribution\n",
        "fig_churn = px.pie(df, names=\"Churn\", title=\"Customer Churn Distribution\", color_discrete_sequence=px.colors.sequential.RdBu)\n",
        "fig_churn.show()"
      ],
      "metadata": {
        "id": "dY3sBxzftH7T"
      },
      "id": "dY3sBxzftH7T",
      "execution_count": null,
      "outputs": []
    },
    {
      "cell_type": "code",
      "source": [
        "# Correlation heatmap\n",
        "corr = df.corr()\n",
        "fig_corr = px.imshow(corr, text_auto=\".1f\", color_continuous_scale=\"RdBu_r\", title=\"Feature Correlation Heatmap\")\n",
        "fig_corr.show()"
      ],
      "metadata": {
        "id": "Z-HsioUQtg0L"
      },
      "id": "Z-HsioUQtg0L",
      "execution_count": null,
      "outputs": []
    },
    {
      "cell_type": "code",
      "source": [
        "# Prediction summary\n",
        "sample_results = x_test.copy()\n",
        "sample_results[\"Actual\"] = y_test.values\n",
        "sample_results[\"Predicted\"] = best_rfc.predict(x_test)\n",
        "sample_results[\"Result\"] = np.where(sample_results[\"Actual\"] == sample_results[\"Predicted\"], \"Correct\", \"Incorrect\")\n",
        "fig_pred = px.histogram(sample_results, x=\"Result\", color=\"Result\", title=\"Prediction Results Summary\", text_auto=True)\n",
        "fig_pred.show()"
      ],
      "metadata": {
        "id": "Bk9WBLk2tjdA"
      },
      "id": "Bk9WBLk2tjdA",
      "execution_count": null,
      "outputs": []
    }
  ],
  "metadata": {
    "kernelspec": {
      "display_name": "base",
      "language": "python",
      "name": "python3"
    },
    "language_info": {
      "codemirror_mode": {
        "name": "ipython",
        "version": 3
      },
      "file_extension": ".py",
      "mimetype": "text/x-python",
      "name": "python",
      "nbconvert_exporter": "python",
      "pygments_lexer": "ipython3",
      "version": "3.13.5"
    },
    "colab": {
      "provenance": []
    }
  },
  "nbformat": 4,
  "nbformat_minor": 5
}